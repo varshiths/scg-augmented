{
 "cells": [
  {
   "cell_type": "code",
   "execution_count": 1,
   "metadata": {},
   "outputs": [],
   "source": [
    "import json\n",
    "import numpy as np\n",
    "from pprint import pprint"
   ]
  },
  {
   "cell_type": "code",
   "execution_count": 2,
   "metadata": {},
   "outputs": [],
   "source": [
    "with open(\"../../datasets/VG-SGG-dicts.json\") as f:\n",
    "    dt = json.load(f)"
   ]
  },
  {
   "cell_type": "code",
   "execution_count": 3,
   "metadata": {},
   "outputs": [],
   "source": [
    "def ret_rel_for_ind(ind, ab):\n",
    "    i1, i2, i3 = np.unravel_index(ind, ab.shape)\n",
    "    s = dt[\"idx_to_label\"][str(i1)] if i1 != 0 else \"_bg_\"\n",
    "    o = dt[\"idx_to_label\"][str(i2)] if i2 != 0 else \"_bg_\"\n",
    "    r = dt[\"idx_to_predicate\"][str(i3)] if i3 != 0 else \"_bg_\"\n",
    "    return \"{}-{}-{}\".format(s, r, o), ab[i1, i2, i3]"
   ]
  },
  {
   "cell_type": "code",
   "execution_count": 4,
   "metadata": {},
   "outputs": [],
   "source": [
    "def rels_from_mat(mat):\n",
    "    return [ ret_rel_for_ind(ag, mat) for ag in np.argsort(np.reshape(mat, -1)) ]"
   ]
  },
  {
   "cell_type": "code",
   "execution_count": 7,
   "metadata": {},
   "outputs": [],
   "source": [
    "hid = np.load(\"../../datasets/hid/descriptions_freq.npy\")\n",
    "rels_nhidf = rels_from_mat(hid)"
   ]
  },
  {
   "cell_type": "code",
   "execution_count": 8,
   "metadata": {},
   "outputs": [],
   "source": [
    "coco = np.load(\"../../datasets/coco/mscoco_captions_freq.npy\")\n",
    "rels_coco = rels_from_mat(coco)"
   ]
  },
  {
   "cell_type": "code",
   "execution_count": 9,
   "metadata": {},
   "outputs": [],
   "source": [
    "vgp = np.load(\"../../datasets/vg/vg_prior_freq.npy\")\n",
    "rels_vgp = rels_from_mat(vgp)"
   ]
  },
  {
   "cell_type": "code",
   "execution_count": 10,
   "metadata": {},
   "outputs": [
    {
     "data": {
      "text/plain": [
       "0.624247557942544"
      ]
     },
     "execution_count": 10,
     "metadata": {},
     "output_type": "execute_result"
    }
   ],
   "source": [
    "np.sum(hid) / 110972"
   ]
  },
  {
   "cell_type": "code",
   "execution_count": 11,
   "metadata": {},
   "outputs": [
    {
     "data": {
      "text/plain": [
       "0.6313294576533871"
      ]
     },
     "execution_count": 11,
     "metadata": {},
     "output_type": "execute_result"
    }
   ],
   "source": [
    "# multiple relations from same sentence though reflecting multiple parses\n",
    "np.sum(coco) / 1233676"
   ]
  },
  {
   "cell_type": "code",
   "execution_count": 12,
   "metadata": {},
   "outputs": [],
   "source": [
    "# rels_coco[-10:]\n",
    "# rels_coco[:10]"
   ]
  },
  {
   "cell_type": "code",
   "execution_count": 13,
   "metadata": {},
   "outputs": [],
   "source": [
    "def get_distr_rels(subj, obj, mat):\n",
    "    sidx = dt[\"label_to_idx\"][subj]\n",
    "    oidx = dt[\"label_to_idx\"][obj]\n",
    "    \n",
    "    vals = mat[sidx, oidx, :]\n",
    "    vals[0] = 0\n",
    "    vals += 1\n",
    "    vals = vals / np.sum(vals)\n",
    "    labels = [\"_bg_\"] + [dt[\"idx_to_predicate\"][str(i+1)] for i in range(50)]\n",
    "    return vals, labels "
   ]
  },
  {
   "cell_type": "code",
   "execution_count": 14,
   "metadata": {},
   "outputs": [],
   "source": [
    "import matplotlib.pyplot as plt\n",
    "%matplotlib inline"
   ]
  },
  {
   "cell_type": "code",
   "execution_count": 15,
   "metadata": {
    "scrolled": true
   },
   "outputs": [
    {
     "data": {
      "text/plain": [
       "['airplane',\n",
       " 'animal',\n",
       " 'arm',\n",
       " 'bag',\n",
       " 'banana',\n",
       " 'basket',\n",
       " 'beach',\n",
       " 'bear',\n",
       " 'bed',\n",
       " 'bench',\n",
       " 'bike',\n",
       " 'bird',\n",
       " 'board',\n",
       " 'boat',\n",
       " 'book',\n",
       " 'boot',\n",
       " 'bottle',\n",
       " 'bowl',\n",
       " 'box',\n",
       " 'boy',\n",
       " 'branch',\n",
       " 'building',\n",
       " 'bus',\n",
       " 'cabinet',\n",
       " 'cap',\n",
       " 'car',\n",
       " 'cat',\n",
       " 'chair',\n",
       " 'child',\n",
       " 'clock',\n",
       " 'coat',\n",
       " 'counter',\n",
       " 'cow',\n",
       " 'cup',\n",
       " 'curtain',\n",
       " 'desk',\n",
       " 'dog',\n",
       " 'door',\n",
       " 'drawer',\n",
       " 'ear',\n",
       " 'elephant',\n",
       " 'engine',\n",
       " 'eye',\n",
       " 'face',\n",
       " 'fence',\n",
       " 'finger',\n",
       " 'flag',\n",
       " 'flower',\n",
       " 'food',\n",
       " 'fork',\n",
       " 'fruit',\n",
       " 'giraffe',\n",
       " 'girl',\n",
       " 'glass',\n",
       " 'glove',\n",
       " 'guy',\n",
       " 'hair',\n",
       " 'hand',\n",
       " 'handle',\n",
       " 'hat',\n",
       " 'head',\n",
       " 'helmet',\n",
       " 'hill',\n",
       " 'horse',\n",
       " 'house',\n",
       " 'jacket',\n",
       " 'jean',\n",
       " 'kid',\n",
       " 'kite',\n",
       " 'lady',\n",
       " 'lamp',\n",
       " 'laptop',\n",
       " 'leaf',\n",
       " 'leg',\n",
       " 'letter',\n",
       " 'light',\n",
       " 'logo',\n",
       " 'man',\n",
       " 'men',\n",
       " 'motorcycle',\n",
       " 'mountain',\n",
       " 'mouth',\n",
       " 'neck',\n",
       " 'nose',\n",
       " 'number',\n",
       " 'orange',\n",
       " 'pant',\n",
       " 'paper',\n",
       " 'paw',\n",
       " 'people',\n",
       " 'person',\n",
       " 'phone',\n",
       " 'pillow',\n",
       " 'pizza',\n",
       " 'plane',\n",
       " 'plant',\n",
       " 'plate',\n",
       " 'player',\n",
       " 'pole',\n",
       " 'post',\n",
       " 'pot',\n",
       " 'racket',\n",
       " 'railing',\n",
       " 'rock',\n",
       " 'roof',\n",
       " 'room',\n",
       " 'screen',\n",
       " 'seat',\n",
       " 'sheep',\n",
       " 'shelf',\n",
       " 'shirt',\n",
       " 'shoe',\n",
       " 'short',\n",
       " 'sidewalk',\n",
       " 'sign',\n",
       " 'sink',\n",
       " 'skateboard',\n",
       " 'ski',\n",
       " 'skier',\n",
       " 'sneaker',\n",
       " 'snow',\n",
       " 'sock',\n",
       " 'stand',\n",
       " 'street',\n",
       " 'surfboard',\n",
       " 'table',\n",
       " 'tail',\n",
       " 'tie',\n",
       " 'tile',\n",
       " 'tire',\n",
       " 'toilet',\n",
       " 'towel',\n",
       " 'tower',\n",
       " 'track',\n",
       " 'train',\n",
       " 'tree',\n",
       " 'truck',\n",
       " 'trunk',\n",
       " 'umbrella',\n",
       " 'vase',\n",
       " 'vegetable',\n",
       " 'vehicle',\n",
       " 'wave',\n",
       " 'wheel',\n",
       " 'window',\n",
       " 'windshield',\n",
       " 'wing',\n",
       " 'wire',\n",
       " 'woman',\n",
       " 'zebra']"
      ]
     },
     "execution_count": 15,
     "metadata": {},
     "output_type": "execute_result"
    }
   ],
   "source": [
    "sorted(list(dt[\"label_to_idx\"].keys()))"
   ]
  },
  {
   "cell_type": "code",
   "execution_count": 23,
   "metadata": {},
   "outputs": [
    {
     "data": {
      "text/plain": [
       "['above',\n",
       " 'across',\n",
       " 'against',\n",
       " 'along',\n",
       " 'and',\n",
       " 'at',\n",
       " 'attached to',\n",
       " 'behind',\n",
       " 'belonging to',\n",
       " 'between',\n",
       " 'carrying',\n",
       " 'covered in',\n",
       " 'covering',\n",
       " 'eating',\n",
       " 'flying in',\n",
       " 'for',\n",
       " 'from',\n",
       " 'growing on',\n",
       " 'hanging from',\n",
       " 'has',\n",
       " 'holding',\n",
       " 'in',\n",
       " 'in front of',\n",
       " 'laying on',\n",
       " 'looking at',\n",
       " 'lying on',\n",
       " 'made of',\n",
       " 'mounted on',\n",
       " 'near',\n",
       " 'of',\n",
       " 'on',\n",
       " 'on back of',\n",
       " 'over',\n",
       " 'painted on',\n",
       " 'parked on',\n",
       " 'part of',\n",
       " 'playing',\n",
       " 'riding',\n",
       " 'says',\n",
       " 'sitting on',\n",
       " 'standing on',\n",
       " 'to',\n",
       " 'under',\n",
       " 'using',\n",
       " 'walking in',\n",
       " 'walking on',\n",
       " 'watching',\n",
       " 'wearing',\n",
       " 'wears',\n",
       " 'with']"
      ]
     },
     "execution_count": 23,
     "metadata": {},
     "output_type": "execute_result"
    }
   ],
   "source": [
    "sorted(list(dt[\"predicate_to_idx\"].keys()))"
   ]
  },
  {
   "cell_type": "code",
   "execution_count": 32,
   "metadata": {},
   "outputs": [
    {
     "data": {
      "text/plain": [
       "<BarContainer object of 51 artists>"
      ]
     },
     "execution_count": 32,
     "metadata": {},
     "output_type": "execute_result"
    },
    {
     "data": {
      "image/png": "[encoded data removed]",
      "text/plain": [
       "<Figure size 1440x720 with 2 Axes>"
      ]
     },
     "metadata": {
      "needs_background": "light"
     },
     "output_type": "display_data"
    }
   ],
   "source": [
    "vals1, labs = get_distr_rels(\"person\", \"street\", hid)\n",
    "vals2, _ = get_distr_rels(\"person\", \"street\", coco)\n",
    "\n",
    "# vals1, labs = get_distr_rels(\"hand\", \"glove\", coco)\n",
    "# vals2, _ = get_distr_rels(\"hand\", \"glove\", vgp)\n",
    "\n",
    "plt.figure(figsize=(20,10))\n",
    "plt.subplot(1, 2, 1)\n",
    "plt.barh(\n",
    "    np.arange(len(vals1)), \n",
    "    vals1, \n",
    "    tick_label=labs, \n",
    "    height=1.0,\n",
    "    align=\"center\",\n",
    ")\n",
    "plt.subplot(1, 2, 2)\n",
    "# plt.figure(figsize=(10,10))\n",
    "plt.barh(\n",
    "    np.arange(len(vals2)), \n",
    "    vals2, \n",
    "    tick_label=labs, \n",
    "    height=1.0,\n",
    "    align=\"center\",\n",
    ")"
   ]
  },
  {
   "cell_type": "code",
   "execution_count": 18,
   "metadata": {},
   "outputs": [],
   "source": [
    "# labs\n",
    "# dt[\"label_to_idx\"][\"man\"]\n",
    "# dt[\"predicate_to_idx\"][\"covered in\"]\n",
    "# coco[78, 81, 12]"
   ]
  },
  {
   "cell_type": "code",
   "execution_count": 19,
   "metadata": {},
   "outputs": [],
   "source": [
    "# cps = np.load(\"mscoco_captions.npy\")"
   ]
  },
  {
   "cell_type": "code",
   "execution_count": 20,
   "metadata": {},
   "outputs": [],
   "source": [
    "# for svo in cps:\n",
    "#     if \"cover in\" in svo[1]:\n",
    "#         print(svo)"
   ]
  },
  {
   "cell_type": "code",
   "execution_count": 21,
   "metadata": {},
   "outputs": [],
   "source": [
    "nhid = hid.copy()\n",
    "ncoco = coco.copy()\n",
    "\n",
    "nhid[:, :, 0] = 0\n",
    "ncoco[:, :, 0] = 0\n",
    "\n",
    "nhid += 1\n",
    "ncoco += 1\n",
    "\n",
    "nhid = nhid / np.sum(nhid, axis=2, keepdims=True)\n",
    "ncoco = ncoco / np.sum(ncoco, axis=2, keepdims=True)\n",
    "\n",
    "diff_c = np.mean(np.max(nhid, axis=2) - np.max(ncoco, axis=2))"
   ]
  },
  {
   "cell_type": "code",
   "execution_count": 22,
   "metadata": {},
   "outputs": [
    {
     "data": {
      "text/plain": [
       "-0.040193979814624886"
      ]
     },
     "execution_count": 22,
     "metadata": {},
     "output_type": "execute_result"
    }
   ],
   "source": [
    "diff_c"
   ]
  },
  {
   "cell_type": "code",
   "execution_count": null,
   "metadata": {},
   "outputs": [],
   "source": []
  },
  {
   "cell_type": "code",
   "execution_count": null,
   "metadata": {},
   "outputs": [],
   "source": []
  }
 ],
 "metadata": {
  "kernelspec": {
   "display_name": "Python 3",
   "language": "python",
   "name": "python3"
  },
  "language_info": {
   "codemirror_mode": {
    "name": "ipython",
    "version": 3
   },
   "file_extension": ".py",
   "mimetype": "text/x-python",
   "name": "python",
   "nbconvert_exporter": "python",
   "pygments_lexer": "ipython3",
   "version": "3.7.3"
  }
 },
 "nbformat": 4,
 "nbformat_minor": 2
}
